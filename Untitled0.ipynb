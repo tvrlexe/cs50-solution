{
  "nbformat": 4,
  "nbformat_minor": 0,
  "metadata": {
    "colab": {
      "provenance": [],
      "authorship_tag": "ABX9TyMMiPp941bUKrwOCkcCarPq",
      "include_colab_link": true
    },
    "kernelspec": {
      "name": "python3",
      "display_name": "Python 3"
    },
    "language_info": {
      "name": "python"
    }
  },
  "cells": [
    {
      "cell_type": "markdown",
      "metadata": {
        "id": "view-in-github",
        "colab_type": "text"
      },
      "source": [
        "<a href=\"https://colab.research.google.com/github/tvrlexe/cs50-solution/blob/main/Untitled0.ipynb\" target=\"_parent\"><img src=\"https://colab.research.google.com/assets/colab-badge.svg\" alt=\"Open In Colab\"/></a>"
      ]
    },
    {
      "cell_type": "code",
      "execution_count": 2,
      "metadata": {
        "colab": {
          "base_uri": "https://localhost:8080/"
        },
        "id": "FrOYgRx3i6LD",
        "outputId": "b298a200-714e-40a7-ffc0-79f2ef231e45"
      },
      "outputs": [
        {
          "output_type": "stream",
          "name": "stdout",
          "text": [
            "Notebook saved as CNN_0.ipynb\n"
          ]
        }
      ],
      "source": [
        "import nbformat\n",
        "from google.colab import files\n",
        "import os\n",
        "\n",
        "# Step 1: Upload your notebook\n",
        "print(\"Upload your .ipynb file:\")\n",
        "uploaded = files.upload()\n",
        "\n",
        "# Step 2: Get the uploaded notebook filename\n",
        "notebook_path = list(uploaded.keys())[0]\n",
        "fixed_path = notebook_path.replace(\".ipynb\", \"_fixed.ipynb\")\n",
        "\n",
        "# Step 3: Load the notebook\n",
        "nb = nbformat.read(notebook_path, as_version=4)\n",
        "\n",
        "# Step 4: Fix the widgets metadata\n",
        "if \"widgets\" not in nb.metadata:\n",
        "    nb.metadata[\"widgets\"] = {}\n",
        "if \"state\" not in nb.metadata[\"widgets\"]:\n",
        "    nb.metadata[\"widgets\"][\"state\"] = {}\n",
        "\n",
        "# Step 5: Save the fixed notebook\n",
        "nbformat.write(nb, fixed_path)\n",
        "print(f\"Fixed notebook saved as {fixed_path}\")\n",
        "\n",
        "# Step 6: Optional: download the fixed notebook\n",
        "files.download(fixed_path)\n"
      ]
    },
    {
      "cell_type": "code",
      "source": [
        "from google.colab import drive\n",
        "drive.mount('/content/drive')"
      ],
      "metadata": {
        "colab": {
          "base_uri": "https://localhost:8080/"
        },
        "id": "Ciet60_ijhrn",
        "outputId": "c651f107-7369-4a0d-e9a7-72a4eaf229de"
      },
      "execution_count": 4,
      "outputs": [
        {
          "output_type": "stream",
          "name": "stdout",
          "text": [
            "Drive already mounted at /content/drive; to attempt to forcibly remount, call drive.mount(\"/content/drive\", force_remount=True).\n"
          ]
        }
      ]
    }
  ]
}